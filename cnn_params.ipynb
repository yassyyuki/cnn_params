{
  "nbformat": 4,
  "nbformat_minor": 0,
  "metadata": {
    "colab": {
      "name": "cnn_params.ipynb",
      "provenance": [],
      "collapsed_sections": [],
      "toc_visible": true
    },
    "kernelspec": {
      "name": "python3",
      "display_name": "Python 3"
    },
    "accelerator": "GPU"
  },
  "cells": [
    {
      "cell_type": "markdown",
      "metadata": {
        "id": "xVRnMBHMrHth",
        "colab_type": "text"
      },
      "source": [
        "# CNNのハイパーパラメータチューニング\n",
        "\n",
        "とりあえず、隠れ層の数は3層として、もっとも精度の高いモデルのハイパーパラメータを求めることを目的とする。\n",
        "\n",
        "### ライブラリのインポート"
      ]
    },
    {
      "cell_type": "code",
      "metadata": {
        "id": "qLuDBjb6q-eq",
        "colab_type": "code",
        "colab": {}
      },
      "source": [
        "from tensorflow.keras.datasets import mnist\n",
        "from tensorflow.keras.models import Sequential, load_model\n",
        "from tensorflow.keras.layers import Activation, Conv2D, Dense, Flatten, MaxPooling2D\n",
        "from keras.utils.np_utils import to_categorical\n",
        "from keras.wrappers.scikit_learn import KerasRegressor\n",
        "from sklearn.model_selection import GridSearchCV\n",
        "import numpy as np"
      ],
      "execution_count": 43,
      "outputs": []
    },
    {
      "cell_type": "markdown",
      "metadata": {
        "id": "p0ZSDVLfrl-x",
        "colab_type": "text"
      },
      "source": [
        "### データの準備"
      ]
    },
    {
      "cell_type": "code",
      "metadata": {
        "id": "f72cH8rNrUld",
        "colab_type": "code",
        "colab": {}
      },
      "source": [
        "(X_train, y_train), (X_test, y_test) = mnist.load_data()\n",
        "\n",
        "X_train = X_train.reshape(-1, 28, 28, 1)\n",
        "X_test = X_test.reshape(-1, 28, 28, 1)\n",
        "y_train = to_categorical(y_train)\n",
        "y_test = to_categorical(y_test)"
      ],
      "execution_count": 44,
      "outputs": []
    },
    {
      "cell_type": "markdown",
      "metadata": {
        "id": "7aSlG4-oweye",
        "colab_type": "text"
      },
      "source": [
        "#### 形の確認"
      ]
    },
    {
      "cell_type": "code",
      "metadata": {
        "id": "YyB2CfJ8wix-",
        "colab_type": "code",
        "colab": {
          "base_uri": "https://localhost:8080/",
          "height": 85
        },
        "outputId": "996b0dfb-9990-45db-a65c-7a4556104f99"
      },
      "source": [
        "print(np.shape(X_train))\n",
        "print(np.shape(y_train))\n",
        "print(np.shape(X_test))\n",
        "print(np.shape(y_test))"
      ],
      "execution_count": 45,
      "outputs": [
        {
          "output_type": "stream",
          "text": [
            "(60000, 28, 28, 1)\n",
            "(60000, 10)\n",
            "(10000, 28, 28, 1)\n",
            "(10000, 10)\n"
          ],
          "name": "stdout"
        }
      ]
    },
    {
      "cell_type": "markdown",
      "metadata": {
        "id": "-g832q2Tr22J",
        "colab_type": "text"
      },
      "source": [
        "### モデルの作成"
      ]
    },
    {
      "cell_type": "code",
      "metadata": {
        "id": "jdYfqRoUrtLU",
        "colab_type": "code",
        "colab": {}
      },
      "source": [
        "def build_model(activation , optimizer):\n",
        "    model = Sequential()\n",
        "\n",
        "    model.add(Conv2D(input_shape=(28, 28, 1), filters=32, kernel_size=(3, 3), strides=(1, 1), padding=\"same\"))\n",
        "    model.add(MaxPooling2D(pool_size=(2, 2), strides=(1, 1), padding=\"same\"))\n",
        "    model.add(Conv2D(filters=32, kernel_size=(3, 3), strides=(1, 1), padding=\"same\"))\n",
        "    model.add(MaxPooling2D(pool_size=(2, 2), strides=(1,1)))\n",
        "\n",
        "    model.add(Flatten())\n",
        "    model.add(Dense(256, activation=activation, input_dim=784))\n",
        "    model.add(Dense(128, activation=activation))\n",
        "    model.add(Dense(64, activation=activation))\n",
        "    model.add(Dense(10, activation='softmax'))\n",
        "\n",
        "    # model.add(Flatten())\n",
        "    # model.add(Dense(256, input_dim=784))\n",
        "    # model.add(Activation(activation))\n",
        "    # model.add(Dense(128))\n",
        "    # model.add(Activation(activation))\n",
        "    # model.add(Dense(128))\n",
        "    # model.add(Activation(activation))\n",
        "    # model.add(Dense(10))\n",
        "    # model.add(Activation('softmax'))\n",
        "\n",
        "    model.compile(loss='categorical_crossentropy', optimizer=optimizer, metrics=['accuracy'])\n",
        "\n",
        "    return model"
      ],
      "execution_count": 46,
      "outputs": []
    },
    {
      "cell_type": "markdown",
      "metadata": {
        "id": "afgiKQt2tW5K",
        "colab_type": "text"
      },
      "source": [
        "### グリッドサーチを行う"
      ]
    },
    {
      "cell_type": "code",
      "metadata": {
        "id": "dgpJJ2WltT4o",
        "colab_type": "code",
        "colab": {
          "base_uri": "https://localhost:8080/",
          "height": 1000
        },
        "outputId": "42be36df-ec73-4866-f98d-d3eea363c0a5"
      },
      "source": [
        "# ハイパーパラメータを準備\n",
        "activation = ['relu', 'sigmoid']\n",
        "optimizer = ['adam', 'sgd']\n",
        "nb_epoch = [10, 20]\n",
        "batch_size = [64, 128, 256]\n",
        "\n",
        "#グリッドサーチ対象のハイパーパラメーターを辞書型にまとめる\n",
        "param_grid = dict(activation=activation, optimizer=optimizer,nb_epoch=nb_epoch, batch_size=batch_size)\n",
        "\n",
        "#モデルを作成\n",
        "model = KerasRegressor(build_fn = build_model, verbose=True)\n",
        "\n",
        "#グリッドサーチの実行\n",
        "grid = GridSearchCV(estimator=model, param_grid=param_grid)\n",
        "grid_result = grid.fit(X_train, y_train)"
      ],
      "execution_count": 47,
      "outputs": [
        {
          "output_type": "stream",
          "text": [
            "750/750 [==============================] - 8s 11ms/step - loss: 1.7236 - accuracy: 0.9118\n",
            "188/188 [==============================] - 1s 5ms/step - loss: 0.1643 - accuracy: 0.9597\n",
            "750/750 [==============================] - 8s 11ms/step - loss: 1.2758 - accuracy: 0.9153\n",
            "188/188 [==============================] - 1s 5ms/step - loss: 0.1866 - accuracy: 0.9532\n",
            "750/750 [==============================] - 8s 11ms/step - loss: 1.3941 - accuracy: 0.9130\n",
            "188/188 [==============================] - 1s 5ms/step - loss: 0.1529 - accuracy: 0.9623\n",
            "750/750 [==============================] - 8s 11ms/step - loss: 1.1900 - accuracy: 0.9175\n",
            "188/188 [==============================] - 1s 5ms/step - loss: 0.2364 - accuracy: 0.9507\n",
            "  1/750 [..............................] - ETA: 5s - loss: 40.9087 - accuracy: 0.0312WARNING:tensorflow:Callbacks method `on_train_batch_end` is slow compared to the batch time (batch time: 0.0038s vs `on_train_batch_end` time: 0.0082s). Check your callbacks.\n",
            "750/750 [==============================] - 8s 11ms/step - loss: 1.3625 - accuracy: 0.9132\n",
            "188/188 [==============================] - 1s 5ms/step - loss: 0.2302 - accuracy: 0.9498\n",
            "  1/750 [..............................] - ETA: 4s - loss: 26.2459 - accuracy: 0.0781WARNING:tensorflow:Callbacks method `on_train_batch_end` is slow compared to the batch time (batch time: 0.0038s vs `on_train_batch_end` time: 0.0072s). Check your callbacks.\n",
            "750/750 [==============================] - 7s 9ms/step - loss: nan - accuracy: 0.0983\n",
            "188/188 [==============================] - 1s 5ms/step - loss: nan - accuracy: 0.1005\n",
            "750/750 [==============================] - 7s 10ms/step - loss: 17471127950772717980487778304.0000 - accuracy: 0.1116\n",
            "188/188 [==============================] - 1s 5ms/step - loss: 2.3014 - accuracy: 0.1151\n",
            "  1/750 [..............................] - ETA: 4s - loss: 23.9901 - accuracy: 0.0625WARNING:tensorflow:Callbacks method `on_train_batch_end` is slow compared to the batch time (batch time: 0.0025s vs `on_train_batch_end` time: 0.0066s). Check your callbacks.\n",
            "750/750 [==============================] - 7s 10ms/step - loss: nan - accuracy: 0.0991\n",
            "188/188 [==============================] - 1s 5ms/step - loss: nan - accuracy: 0.0961\n",
            "750/750 [==============================] - 7s 9ms/step - loss: 1036532061104152711790592.0000 - accuracy: 0.1120\n",
            "188/188 [==============================] - 1s 5ms/step - loss: 2.3015 - accuracy: 0.1131\n",
            "750/750 [==============================] - 7s 9ms/step - loss: nan - accuracy: 0.0986\n",
            "188/188 [==============================] - 1s 5ms/step - loss: nan - accuracy: 0.0995\n",
            "750/750 [==============================] - 8s 11ms/step - loss: 1.4266 - accuracy: 0.9131\n",
            "188/188 [==============================] - 1s 5ms/step - loss: 0.1840 - accuracy: 0.9547\n",
            "  1/750 [..............................] - ETA: 5s - loss: 40.5413 - accuracy: 0.1250WARNING:tensorflow:Callbacks method `on_train_batch_end` is slow compared to the batch time (batch time: 0.0037s vs `on_train_batch_end` time: 0.0092s). Check your callbacks.\n",
            "750/750 [==============================] - 8s 11ms/step - loss: 1.8860 - accuracy: 0.9046\n",
            "188/188 [==============================] - 1s 5ms/step - loss: 0.1614 - accuracy: 0.9615\n",
            "  1/750 [..............................] - ETA: 5s - loss: 25.2633 - accuracy: 0.0000e+00WARNING:tensorflow:Callbacks method `on_train_batch_end` is slow compared to the batch time (batch time: 0.0041s vs `on_train_batch_end` time: 0.0072s). Check your callbacks.\n",
            "750/750 [==============================] - 8s 11ms/step - loss: 1.4723 - accuracy: 0.9123\n",
            "188/188 [==============================] - 1s 5ms/step - loss: 0.1573 - accuracy: 0.9601\n",
            "750/750 [==============================] - 8s 11ms/step - loss: 1.1672 - accuracy: 0.9267\n",
            "188/188 [==============================] - 1s 5ms/step - loss: 0.1863 - accuracy: 0.9542\n",
            "750/750 [==============================] - 8s 11ms/step - loss: 1.4675 - accuracy: 0.9197\n",
            "188/188 [==============================] - 1s 5ms/step - loss: 0.1455 - accuracy: 0.9644\n",
            "  1/750 [..............................] - ETA: 4s - loss: 30.2230 - accuracy: 0.0625WARNING:tensorflow:Callbacks method `on_train_batch_end` is slow compared to the batch time (batch time: 0.0043s vs `on_train_batch_end` time: 0.0067s). Check your callbacks.\n",
            "750/750 [==============================] - 7s 9ms/step - loss: nan - accuracy: 0.0984\n",
            "188/188 [==============================] - 1s 5ms/step - loss: nan - accuracy: 0.1005\n",
            "  1/750 [..............................] - ETA: 4s - loss: 61.4344 - accuracy: 0.0000e+00WARNING:tensorflow:Callbacks method `on_train_batch_end` is slow compared to the batch time (batch time: 0.0044s vs `on_train_batch_end` time: 0.0069s). Check your callbacks.\n",
            "750/750 [==============================] - 7s 10ms/step - loss: nan - accuracy: 0.0987\n",
            "188/188 [==============================] - 1s 6ms/step - loss: nan - accuracy: 0.0979\n",
            "  1/750 [..............................] - ETA: 4s - loss: 44.1766 - accuracy: 0.0781WARNING:tensorflow:Callbacks method `on_train_batch_end` is slow compared to the batch time (batch time: 0.0062s vs `on_train_batch_end` time: 0.0095s). Check your callbacks.\n",
            "750/750 [==============================] - 7s 9ms/step - loss: nan - accuracy: 0.0994\n",
            "188/188 [==============================] - 1s 5ms/step - loss: nan - accuracy: 0.0961\n",
            "750/750 [==============================] - 7s 9ms/step - loss: 584081176067249198610776064.0000 - accuracy: 0.1099\n",
            "188/188 [==============================] - 1s 5ms/step - loss: 2.3016 - accuracy: 0.1131\n",
            "750/750 [==============================] - 7s 9ms/step - loss: nan - accuracy: 0.0987\n",
            "188/188 [==============================] - 1s 5ms/step - loss: nan - accuracy: 0.0995\n",
            "  1/375 [..............................] - ETA: 4s - loss: 37.9544 - accuracy: 0.1094WARNING:tensorflow:Callbacks method `on_train_batch_end` is slow compared to the batch time (batch time: 0.0057s vs `on_train_batch_end` time: 0.0127s). Check your callbacks.\n",
            "375/375 [==============================] - 6s 16ms/step - loss: 3.1626 - accuracy: 0.8910\n",
            "94/94 [==============================] - 1s 7ms/step - loss: 0.2714 - accuracy: 0.9478\n",
            "  1/375 [..............................] - ETA: 4s - loss: 15.0100 - accuracy: 0.0938WARNING:tensorflow:Callbacks method `on_train_batch_end` is slow compared to the batch time (batch time: 0.0056s vs `on_train_batch_end` time: 0.0097s). Check your callbacks.\n",
            "375/375 [==============================] - 6s 16ms/step - loss: 1.5290 - accuracy: 0.9101\n",
            "94/94 [==============================] - 1s 7ms/step - loss: 0.2041 - accuracy: 0.9524\n",
            "  1/375 [..............................] - ETA: 4s - loss: 40.6440 - accuracy: 0.1250WARNING:tensorflow:Callbacks method `on_train_batch_end` is slow compared to the batch time (batch time: 0.0055s vs `on_train_batch_end` time: 0.0120s). Check your callbacks.\n",
            "375/375 [==============================] - 6s 16ms/step - loss: 4.0999 - accuracy: 0.8911\n",
            "94/94 [==============================] - 1s 7ms/step - loss: 0.3088 - accuracy: 0.9550\n",
            "  1/375 [..............................] - ETA: 4s - loss: 14.8100 - accuracy: 0.0625WARNING:tensorflow:Callbacks method `on_train_batch_end` is slow compared to the batch time (batch time: 0.0047s vs `on_train_batch_end` time: 0.0138s). Check your callbacks.\n",
            "375/375 [==============================] - 6s 16ms/step - loss: 2.4572 - accuracy: 0.8938\n",
            "94/94 [==============================] - 1s 7ms/step - loss: 0.2588 - accuracy: 0.9384\n",
            "  1/375 [..............................] - ETA: 4s - loss: 22.0271 - accuracy: 0.1094WARNING:tensorflow:Callbacks method `on_train_batch_end` is slow compared to the batch time (batch time: 0.0058s vs `on_train_batch_end` time: 0.0151s). Check your callbacks.\n",
            "375/375 [==============================] - 6s 16ms/step - loss: 1.9170 - accuracy: 0.9084\n",
            "94/94 [==============================] - 1s 7ms/step - loss: 0.2020 - accuracy: 0.9514\n",
            "  1/375 [..............................] - ETA: 4s - loss: 29.5081 - accuracy: 0.1016WARNING:tensorflow:Callbacks method `on_train_batch_end` is slow compared to the batch time (batch time: 0.0045s vs `on_train_batch_end` time: 0.0116s). Check your callbacks.\n",
            "375/375 [==============================] - 5s 15ms/step - loss: nan - accuracy: 0.0982\n",
            "94/94 [==============================] - 1s 7ms/step - loss: nan - accuracy: 0.1005\n",
            "  1/375 [..............................] - ETA: 4s - loss: 29.4547 - accuracy: 0.1016WARNING:tensorflow:Callbacks method `on_train_batch_end` is slow compared to the batch time (batch time: 0.0059s vs `on_train_batch_end` time: 0.0093s). Check your callbacks.\n",
            "375/375 [==============================] - 6s 15ms/step - loss: nan - accuracy: 0.0991\n",
            "94/94 [==============================] - 1s 7ms/step - loss: nan - accuracy: 0.0979\n",
            "  1/375 [..............................] - ETA: 4s - loss: 22.8258 - accuracy: 0.1250WARNING:tensorflow:Callbacks method `on_train_batch_end` is slow compared to the batch time (batch time: 0.0051s vs `on_train_batch_end` time: 0.0092s). Check your callbacks.\n",
            "375/375 [==============================] - 5s 15ms/step - loss: nan - accuracy: 0.0996\n",
            "94/94 [==============================] - 1s 7ms/step - loss: nan - accuracy: 0.0961\n",
            "  1/375 [..............................] - ETA: 4s - loss: 29.2787 - accuracy: 0.0938WARNING:tensorflow:Callbacks method `on_train_batch_end` is slow compared to the batch time (batch time: 0.0028s vs `on_train_batch_end` time: 0.0114s). Check your callbacks.\n",
            "375/375 [==============================] - 5s 14ms/step - loss: 124593173562314595500032.0000 - accuracy: 0.1055\n",
            "94/94 [==============================] - 1s 7ms/step - loss: 2.3019 - accuracy: 0.1131\n",
            "  1/375 [..............................] - ETA: 3s - loss: 33.3692 - accuracy: 0.0547WARNING:tensorflow:Callbacks method `on_train_batch_end` is slow compared to the batch time (batch time: 0.0038s vs `on_train_batch_end` time: 0.0106s). Check your callbacks.\n",
            "375/375 [==============================] - 5s 15ms/step - loss: nan - accuracy: 0.0983\n",
            "94/94 [==============================] - 1s 7ms/step - loss: nan - accuracy: 0.0995\n",
            "  1/375 [..............................] - ETA: 4s - loss: 45.7703 - accuracy: 0.0859WARNING:tensorflow:Callbacks method `on_train_batch_end` is slow compared to the batch time (batch time: 0.0041s vs `on_train_batch_end` time: 0.0141s). Check your callbacks.\n",
            "375/375 [==============================] - 6s 16ms/step - loss: 3.5985 - accuracy: 0.9021\n",
            "94/94 [==============================] - 1s 7ms/step - loss: 0.3617 - accuracy: 0.9467\n",
            "  1/375 [..............................] - ETA: 4s - loss: 41.7691 - accuracy: 0.0781WARNING:tensorflow:Callbacks method `on_train_batch_end` is slow compared to the batch time (batch time: 0.0050s vs `on_train_batch_end` time: 0.0117s). Check your callbacks.\n",
            "375/375 [==============================] - 6s 16ms/step - loss: 3.0442 - accuracy: 0.8946\n",
            "94/94 [==============================] - 1s 7ms/step - loss: 0.2412 - accuracy: 0.9490\n",
            "375/375 [==============================] - 6s 16ms/step - loss: 2.3852 - accuracy: 0.9046\n",
            "94/94 [==============================] - 1s 7ms/step - loss: 0.1974 - accuracy: 0.9548\n",
            "  1/375 [..............................] - ETA: 4s - loss: 17.3155 - accuracy: 0.0703WARNING:tensorflow:Callbacks method `on_train_batch_end` is slow compared to the batch time (batch time: 0.0057s vs `on_train_batch_end` time: 0.0103s). Check your callbacks.\n",
            "375/375 [==============================] - 6s 16ms/step - loss: 1.2620 - accuracy: 0.9173\n",
            "94/94 [==============================] - 1s 7ms/step - loss: 0.2310 - accuracy: 0.9544\n",
            "  1/375 [..............................] - ETA: 4s - loss: 19.2969 - accuracy: 0.1875WARNING:tensorflow:Callbacks method `on_train_batch_end` is slow compared to the batch time (batch time: 0.0066s vs `on_train_batch_end` time: 0.0123s). Check your callbacks.\n",
            "375/375 [==============================] - 6s 16ms/step - loss: 2.4948 - accuracy: 0.8957\n",
            "94/94 [==============================] - 1s 7ms/step - loss: 0.2369 - accuracy: 0.9518\n",
            "  1/375 [..............................] - ETA: 4s - loss: 32.3920 - accuracy: 0.0391WARNING:tensorflow:Callbacks method `on_train_batch_end` is slow compared to the batch time (batch time: 0.0066s vs `on_train_batch_end` time: 0.0101s). Check your callbacks.\n",
            "375/375 [==============================] - 6s 15ms/step - loss: 26601409252189634847194396753920.0000 - accuracy: 0.1100\n",
            "94/94 [==============================] - 1s 7ms/step - loss: 2.3018 - accuracy: 0.1126\n",
            "  1/375 [..............................] - ETA: 4s - loss: 17.5992 - accuracy: 0.1250WARNING:tensorflow:Callbacks method `on_train_batch_end` is slow compared to the batch time (batch time: 0.0051s vs `on_train_batch_end` time: 0.0101s). Check your callbacks.\n",
            "375/375 [==============================] - 5s 15ms/step - loss: nan - accuracy: 0.0991\n",
            "94/94 [==============================] - 1s 7ms/step - loss: nan - accuracy: 0.0979\n",
            "  1/375 [..............................] - ETA: 4s - loss: 40.3901 - accuracy: 0.1094WARNING:tensorflow:Callbacks method `on_train_batch_end` is slow compared to the batch time (batch time: 0.0058s vs `on_train_batch_end` time: 0.0094s). Check your callbacks.\n",
            "375/375 [==============================] - 6s 15ms/step - loss: 1670699474662985638399180800.0000 - accuracy: 0.1106\n",
            "94/94 [==============================] - 1s 7ms/step - loss: 2.3018 - accuracy: 0.1151\n",
            "  1/375 [..............................] - ETA: 3s - loss: 40.6077 - accuracy: 0.1016WARNING:tensorflow:Callbacks method `on_train_batch_end` is slow compared to the batch time (batch time: 0.0058s vs `on_train_batch_end` time: 0.0104s). Check your callbacks.\n",
            "375/375 [==============================] - 6s 15ms/step - loss: nan - accuracy: 0.0985\n",
            "94/94 [==============================] - 1s 7ms/step - loss: nan - accuracy: 0.0996\n",
            "  1/375 [..............................] - ETA: 4s - loss: 30.1900 - accuracy: 0.1094WARNING:tensorflow:Callbacks method `on_train_batch_end` is slow compared to the batch time (batch time: 0.0055s vs `on_train_batch_end` time: 0.0108s). Check your callbacks.\n",
            "375/375 [==============================] - 6s 15ms/step - loss: 11952905628560953775751168.0000 - accuracy: 0.1128\n",
            "94/94 [==============================] - 1s 7ms/step - loss: 2.3021 - accuracy: 0.1060\n",
            "188/188 [==============================] - 5s 26ms/step - loss: 2.0137 - accuracy: 0.8939\n",
            "47/47 [==============================] - 1s 11ms/step - loss: 0.2072 - accuracy: 0.9489\n",
            "188/188 [==============================] - 5s 25ms/step - loss: 4.4446 - accuracy: 0.8789\n",
            "47/47 [==============================] - 1s 11ms/step - loss: 0.2550 - accuracy: 0.9471\n",
            "188/188 [==============================] - 5s 26ms/step - loss: 3.5988 - accuracy: 0.8875\n",
            "47/47 [==============================] - 1s 11ms/step - loss: 0.2442 - accuracy: 0.9508\n",
            "188/188 [==============================] - 5s 25ms/step - loss: 3.2608 - accuracy: 0.8914\n",
            "47/47 [==============================] - 1s 12ms/step - loss: 0.2391 - accuracy: 0.9492\n",
            "188/188 [==============================] - 5s 25ms/step - loss: 3.1119 - accuracy: 0.8829\n",
            "47/47 [==============================] - 1s 11ms/step - loss: 0.2901 - accuracy: 0.9514\n",
            "188/188 [==============================] - 4s 23ms/step - loss: nan - accuracy: 0.0984\n",
            "47/47 [==============================] - 1s 11ms/step - loss: nan - accuracy: 0.1005\n",
            "188/188 [==============================] - 4s 23ms/step - loss: inf - accuracy: 0.1110\n",
            "47/47 [==============================] - 1s 11ms/step - loss: 2.3021 - accuracy: 0.1151\n",
            "188/188 [==============================] - 4s 23ms/step - loss: nan - accuracy: 0.0994\n",
            "47/47 [==============================] - 1s 11ms/step - loss: nan - accuracy: 0.0961\n",
            "188/188 [==============================] - 4s 23ms/step - loss: 58725895092090184026797637632.0000 - accuracy: 0.1116\n",
            "47/47 [==============================] - 1s 11ms/step - loss: 2.3021 - accuracy: 0.1131\n",
            "188/188 [==============================] - 4s 23ms/step - loss: 1372795192207438085817794683731968.0000 - accuracy: 0.1133\n",
            "47/47 [==============================] - 1s 11ms/step - loss: 2.3023 - accuracy: 0.1060\n",
            "188/188 [==============================] - 5s 25ms/step - loss: 5.2860 - accuracy: 0.8682\n",
            "47/47 [==============================] - 1s 11ms/step - loss: 0.2248 - accuracy: 0.9531\n",
            "188/188 [==============================] - 5s 25ms/step - loss: 2.7436 - accuracy: 0.8923\n",
            "47/47 [==============================] - 1s 11ms/step - loss: 0.2581 - accuracy: 0.9502\n",
            "188/188 [==============================] - 5s 25ms/step - loss: 1.8152 - accuracy: 0.8929\n",
            "47/47 [==============================] - 1s 11ms/step - loss: 0.1947 - accuracy: 0.9563\n",
            "188/188 [==============================] - 5s 25ms/step - loss: 2.5910 - accuracy: 0.8935\n",
            "47/47 [==============================] - 1s 11ms/step - loss: 0.2516 - accuracy: 0.9473\n",
            "188/188 [==============================] - 5s 25ms/step - loss: 4.0190 - accuracy: 0.8280\n",
            "47/47 [==============================] - 1s 11ms/step - loss: 0.3189 - accuracy: 0.9261\n",
            "188/188 [==============================] - 4s 23ms/step - loss: nan - accuracy: 0.0986\n",
            "47/47 [==============================] - 1s 11ms/step - loss: nan - accuracy: 0.1005\n",
            "188/188 [==============================] - 4s 23ms/step - loss: 81805822060539932825354240.0000 - accuracy: 0.1059\n",
            "47/47 [==============================] - 1s 11ms/step - loss: 2.3021 - accuracy: 0.1151\n",
            "188/188 [==============================] - 4s 23ms/step - loss: 449448793114897595024757886025728.0000 - accuracy: 0.1115\n",
            "47/47 [==============================] - 1s 11ms/step - loss: 2.3021 - accuracy: 0.1151\n",
            "188/188 [==============================] - 4s 23ms/step - loss: nan - accuracy: 0.0986\n",
            "47/47 [==============================] - 1s 11ms/step - loss: nan - accuracy: 0.0996\n",
            "188/188 [==============================] - 4s 23ms/step - loss: nan - accuracy: 0.0985\n",
            "47/47 [==============================] - 1s 11ms/step - loss: nan - accuracy: 0.0995\n",
            "750/750 [==============================] - 8s 11ms/step - loss: 0.7175 - accuracy: 0.8161\n",
            "188/188 [==============================] - 1s 5ms/step - loss: 0.3200 - accuracy: 0.9088\n",
            "750/750 [==============================] - 8s 11ms/step - loss: 0.7064 - accuracy: 0.8204\n",
            "188/188 [==============================] - 1s 6ms/step - loss: 0.3786 - accuracy: 0.8934\n",
            "  1/750 [..............................] - ETA: 5s - loss: 2.4421 - accuracy: 0.1250WARNING:tensorflow:Callbacks method `on_train_batch_end` is slow compared to the batch time (batch time: 0.0046s vs `on_train_batch_end` time: 0.0073s). Check your callbacks.\n",
            "750/750 [==============================] - 8s 11ms/step - loss: 0.7454 - accuracy: 0.8025\n",
            "188/188 [==============================] - 1s 5ms/step - loss: 0.3473 - accuracy: 0.8965\n",
            "750/750 [==============================] - 8s 11ms/step - loss: 0.7105 - accuracy: 0.8178\n",
            "188/188 [==============================] - 1s 5ms/step - loss: 0.3256 - accuracy: 0.9053\n",
            "750/750 [==============================] - 8s 11ms/step - loss: 0.7556 - accuracy: 0.7900\n",
            "188/188 [==============================] - 1s 5ms/step - loss: 0.3530 - accuracy: 0.8963\n",
            "750/750 [==============================] - 7s 10ms/step - loss: 1.9036 - accuracy: 0.7086\n",
            "188/188 [==============================] - 1s 5ms/step - loss: 1.5996 - accuracy: 0.8612\n",
            "750/750 [==============================] - 7s 10ms/step - loss: 1.9649 - accuracy: 0.6451\n",
            "188/188 [==============================] - 1s 5ms/step - loss: 1.6977 - accuracy: 0.7953\n",
            "750/750 [==============================] - 7s 10ms/step - loss: 1.9084 - accuracy: 0.7058\n",
            "188/188 [==============================] - 1s 5ms/step - loss: 1.6080 - accuracy: 0.8322\n",
            "750/750 [==============================] - 7s 10ms/step - loss: 1.9094 - accuracy: 0.6846\n",
            "188/188 [==============================] - 1s 5ms/step - loss: 1.6236 - accuracy: 0.7977\n",
            "  1/750 [..............................] - ETA: 3s - loss: 2.5349 - accuracy: 0.0625WARNING:tensorflow:Callbacks method `on_train_batch_end` is slow compared to the batch time (batch time: 0.0040s vs `on_train_batch_end` time: 0.0070s). Check your callbacks.\n",
            "750/750 [==============================] - 7s 10ms/step - loss: 1.9569 - accuracy: 0.6959\n",
            "188/188 [==============================] - 1s 5ms/step - loss: 1.6679 - accuracy: 0.8178\n",
            "  1/750 [..............................] - ETA: 5s - loss: 2.4959 - accuracy: 0.0469WARNING:tensorflow:Callbacks method `on_train_batch_end` is slow compared to the batch time (batch time: 0.0043s vs `on_train_batch_end` time: 0.0071s). Check your callbacks.\n",
            "750/750 [==============================] - 8s 11ms/step - loss: 0.6196 - accuracy: 0.8518\n",
            "188/188 [==============================] - 1s 5ms/step - loss: 0.4487 - accuracy: 0.8759\n",
            "  1/750 [..............................] - ETA: 5s - loss: 2.4491 - accuracy: 0.1406WARNING:tensorflow:Callbacks method `on_train_batch_end` is slow compared to the batch time (batch time: 0.0042s vs `on_train_batch_end` time: 0.0092s). Check your callbacks.\n",
            "750/750 [==============================] - 8s 11ms/step - loss: 0.6593 - accuracy: 0.8345\n",
            "188/188 [==============================] - 1s 5ms/step - loss: 0.3235 - accuracy: 0.9081\n",
            "750/750 [==============================] - 8s 11ms/step - loss: 0.7449 - accuracy: 0.8000\n",
            "188/188 [==============================] - 1s 5ms/step - loss: 0.3406 - accuracy: 0.9022\n",
            "  1/750 [..............................] - ETA: 5s - loss: 2.4920 - accuracy: 0.0938WARNING:tensorflow:Callbacks method `on_train_batch_end` is slow compared to the batch time (batch time: 0.0044s vs `on_train_batch_end` time: 0.0068s). Check your callbacks.\n",
            "750/750 [==============================] - 8s 11ms/step - loss: 0.6368 - accuracy: 0.8427\n",
            "188/188 [==============================] - 1s 5ms/step - loss: 0.3312 - accuracy: 0.9016\n",
            "750/750 [==============================] - 8s 11ms/step - loss: 0.6293 - accuracy: 0.8492\n",
            "188/188 [==============================] - 1s 5ms/step - loss: 0.4015 - accuracy: 0.8802\n",
            "750/750 [==============================] - 7s 10ms/step - loss: 1.9414 - accuracy: 0.6805\n",
            "188/188 [==============================] - 1s 5ms/step - loss: 1.6336 - accuracy: 0.8498\n",
            "  1/750 [..............................] - ETA: 4s - loss: 2.6021 - accuracy: 0.0312WARNING:tensorflow:Callbacks method `on_train_batch_end` is slow compared to the batch time (batch time: 0.0055s vs `on_train_batch_end` time: 0.0099s). Check your callbacks.\n",
            "750/750 [==============================] - 7s 10ms/step - loss: 1.9350 - accuracy: 0.6492\n",
            "188/188 [==============================] - 1s 5ms/step - loss: 1.6515 - accuracy: 0.7608\n",
            "750/750 [==============================] - 7s 10ms/step - loss: 1.9138 - accuracy: 0.6891\n",
            "188/188 [==============================] - 1s 5ms/step - loss: 1.6191 - accuracy: 0.8183\n",
            "750/750 [==============================] - 7s 10ms/step - loss: 1.8831 - accuracy: 0.7341\n",
            "188/188 [==============================] - 1s 5ms/step - loss: 1.5680 - accuracy: 0.8604\n",
            "  1/750 [..............................] - ETA: 4s - loss: 2.7953 - accuracy: 0.0469WARNING:tensorflow:Callbacks method `on_train_batch_end` is slow compared to the batch time (batch time: 0.0037s vs `on_train_batch_end` time: 0.0063s). Check your callbacks.\n",
            "750/750 [==============================] - 7s 10ms/step - loss: 1.9683 - accuracy: 0.5858\n",
            "188/188 [==============================] - 1s 5ms/step - loss: 1.6653 - accuracy: 0.6935\n",
            "  1/375 [..............................] - ETA: 4s - loss: 2.5627 - accuracy: 0.1172WARNING:tensorflow:Callbacks method `on_train_batch_end` is slow compared to the batch time (batch time: 0.0050s vs `on_train_batch_end` time: 0.0128s). Check your callbacks.\n",
            "375/375 [==============================] - 6s 16ms/step - loss: 0.8376 - accuracy: 0.8077\n",
            "94/94 [==============================] - 1s 7ms/step - loss: 0.3263 - accuracy: 0.9181\n",
            "  1/375 [..............................] - ETA: 4s - loss: 2.4913 - accuracy: 0.0781WARNING:tensorflow:Callbacks method `on_train_batch_end` is slow compared to the batch time (batch time: 0.0067s vs `on_train_batch_end` time: 0.0110s). Check your callbacks.\n",
            "375/375 [==============================] - 6s 16ms/step - loss: 0.7220 - accuracy: 0.8533\n",
            "94/94 [==============================] - 1s 10ms/step - loss: 0.2623 - accuracy: 0.9305\n",
            "375/375 [==============================] - 7s 19ms/step - loss: 0.7828 - accuracy: 0.8242\n",
            "94/94 [==============================] - 1s 7ms/step - loss: 0.3033 - accuracy: 0.9233\n",
            "  1/375 [..............................] - ETA: 4s - loss: 2.6032 - accuracy: 0.0938WARNING:tensorflow:Callbacks method `on_train_batch_end` is slow compared to the batch time (batch time: 0.0054s vs `on_train_batch_end` time: 0.0113s). Check your callbacks.\n",
            "375/375 [==============================] - 6s 16ms/step - loss: 0.7355 - accuracy: 0.8350\n",
            "94/94 [==============================] - 1s 7ms/step - loss: 0.2735 - accuracy: 0.9320\n",
            "  1/375 [..............................] - ETA: 4s - loss: 2.5102 - accuracy: 0.1250WARNING:tensorflow:Callbacks method `on_train_batch_end` is slow compared to the batch time (batch time: 0.0069s vs `on_train_batch_end` time: 0.0107s). Check your callbacks.\n",
            "375/375 [==============================] - 6s 16ms/step - loss: 0.8117 - accuracy: 0.8109\n",
            "94/94 [==============================] - 1s 7ms/step - loss: 0.3466 - accuracy: 0.9118\n",
            "375/375 [==============================] - 6s 15ms/step - loss: 2.0624 - accuracy: 0.5738\n",
            "94/94 [==============================] - 1s 7ms/step - loss: 1.8682 - accuracy: 0.8035\n",
            "  1/375 [..............................] - ETA: 4s - loss: 2.5739 - accuracy: 0.0938WARNING:tensorflow:Callbacks method `on_train_batch_end` is slow compared to the batch time (batch time: 0.0057s vs `on_train_batch_end` time: 0.0095s). Check your callbacks.\n",
            "375/375 [==============================] - 6s 15ms/step - loss: 2.0722 - accuracy: 0.5940\n",
            "94/94 [==============================] - 1s 7ms/step - loss: 1.9105 - accuracy: 0.7878\n",
            "  1/375 [..............................] - ETA: 4s - loss: 2.5162 - accuracy: 0.1172WARNING:tensorflow:Callbacks method `on_train_batch_end` is slow compared to the batch time (batch time: 0.0060s vs `on_train_batch_end` time: 0.0104s). Check your callbacks.\n",
            "375/375 [==============================] - 6s 15ms/step - loss: 2.0468 - accuracy: 0.5813\n",
            "94/94 [==============================] - 1s 7ms/step - loss: 1.8752 - accuracy: 0.6971\n",
            "  1/375 [..............................] - ETA: 4s - loss: 2.6598 - accuracy: 0.0859WARNING:tensorflow:Callbacks method `on_train_batch_end` is slow compared to the batch time (batch time: 0.0051s vs `on_train_batch_end` time: 0.0095s). Check your callbacks.\n",
            "375/375 [==============================] - 6s 15ms/step - loss: 2.0793 - accuracy: 0.5438\n",
            "94/94 [==============================] - 1s 7ms/step - loss: 1.9009 - accuracy: 0.6845\n",
            "  1/375 [..............................] - ETA: 4s - loss: 2.3831 - accuracy: 0.1094WARNING:tensorflow:Callbacks method `on_train_batch_end` is slow compared to the batch time (batch time: 0.0045s vs `on_train_batch_end` time: 0.0103s). Check your callbacks.\n",
            "375/375 [==============================] - 6s 15ms/step - loss: 2.0655 - accuracy: 0.6236\n",
            "94/94 [==============================] - 1s 7ms/step - loss: 1.8944 - accuracy: 0.7945\n",
            "375/375 [==============================] - 6s 16ms/step - loss: 0.8069 - accuracy: 0.8225\n",
            "94/94 [==============================] - 1s 7ms/step - loss: 0.3145 - accuracy: 0.9185\n",
            "  1/375 [..............................] - ETA: 4s - loss: 2.3301 - accuracy: 0.1484WARNING:tensorflow:Callbacks method `on_train_batch_end` is slow compared to the batch time (batch time: 0.0047s vs `on_train_batch_end` time: 0.0118s). Check your callbacks.\n",
            "375/375 [==============================] - 6s 16ms/step - loss: 0.7468 - accuracy: 0.8408\n",
            "94/94 [==============================] - 1s 7ms/step - loss: 0.3427 - accuracy: 0.9133\n",
            "  1/375 [..............................] - ETA: 4s - loss: 2.4170 - accuracy: 0.1016WARNING:tensorflow:Callbacks method `on_train_batch_end` is slow compared to the batch time (batch time: 0.0063s vs `on_train_batch_end` time: 0.0111s). Check your callbacks.\n",
            "375/375 [==============================] - 6s 16ms/step - loss: 0.8156 - accuracy: 0.8064\n",
            "94/94 [==============================] - 1s 7ms/step - loss: 0.3403 - accuracy: 0.9165\n",
            "  1/375 [..............................] - ETA: 4s - loss: 2.5439 - accuracy: 0.1172WARNING:tensorflow:Callbacks method `on_train_batch_end` is slow compared to the batch time (batch time: 0.0047s vs `on_train_batch_end` time: 0.0190s). Check your callbacks.\n",
            "375/375 [==============================] - 6s 16ms/step - loss: 0.7828 - accuracy: 0.8248\n",
            "94/94 [==============================] - 1s 7ms/step - loss: 0.3333 - accuracy: 0.9153\n",
            "  1/375 [..............................] - ETA: 4s - loss: 2.4570 - accuracy: 0.1250WARNING:tensorflow:Callbacks method `on_train_batch_end` is slow compared to the batch time (batch time: 0.0058s vs `on_train_batch_end` time: 0.0110s). Check your callbacks.\n",
            "375/375 [==============================] - 6s 16ms/step - loss: 0.7681 - accuracy: 0.8244\n",
            "94/94 [==============================] - 1s 7ms/step - loss: 0.2539 - accuracy: 0.9377\n",
            "  1/375 [..............................] - ETA: 4s - loss: 2.4516 - accuracy: 0.1016WARNING:tensorflow:Callbacks method `on_train_batch_end` is slow compared to the batch time (batch time: 0.0053s vs `on_train_batch_end` time: 0.0112s). Check your callbacks.\n",
            "375/375 [==============================] - 6s 15ms/step - loss: 2.0670 - accuracy: 0.6038\n",
            "94/94 [==============================] - 1s 7ms/step - loss: 1.8991 - accuracy: 0.8073\n",
            "  1/375 [..............................] - ETA: 4s - loss: 2.3848 - accuracy: 0.1094WARNING:tensorflow:Callbacks method `on_train_batch_end` is slow compared to the batch time (batch time: 0.0042s vs `on_train_batch_end` time: 0.0113s). Check your callbacks.\n",
            "375/375 [==============================] - 6s 15ms/step - loss: 2.0287 - accuracy: 0.6110\n",
            "94/94 [==============================] - 1s 7ms/step - loss: 1.8604 - accuracy: 0.7910\n",
            "  1/375 [..............................] - ETA: 4s - loss: 2.4045 - accuracy: 0.1094WARNING:tensorflow:Callbacks method `on_train_batch_end` is slow compared to the batch time (batch time: 0.0052s vs `on_train_batch_end` time: 0.0094s). Check your callbacks.\n",
            "375/375 [==============================] - 6s 16ms/step - loss: 2.0451 - accuracy: 0.6361\n",
            "94/94 [==============================] - 1s 8ms/step - loss: 1.8874 - accuracy: 0.7933\n",
            "  1/375 [..............................] - ETA: 4s - loss: 2.6723 - accuracy: 0.0703WARNING:tensorflow:Callbacks method `on_train_batch_end` is slow compared to the batch time (batch time: 0.0059s vs `on_train_batch_end` time: 0.0099s). Check your callbacks.\n",
            "375/375 [==============================] - 6s 16ms/step - loss: 2.0981 - accuracy: 0.5475\n",
            "94/94 [==============================] - 1s 8ms/step - loss: 1.9363 - accuracy: 0.7181\n",
            "  1/375 [..............................] - ETA: 4s - loss: 2.4262 - accuracy: 0.1484WARNING:tensorflow:Callbacks method `on_train_batch_end` is slow compared to the batch time (batch time: 0.0054s vs `on_train_batch_end` time: 0.0111s). Check your callbacks.\n",
            "375/375 [==============================] - 6s 15ms/step - loss: 2.0786 - accuracy: 0.5876\n",
            "94/94 [==============================] - 1s 7ms/step - loss: 1.9100 - accuracy: 0.8167\n",
            "188/188 [==============================] - 5s 25ms/step - loss: 1.0890 - accuracy: 0.7506\n",
            "47/47 [==============================] - 1s 11ms/step - loss: 0.4195 - accuracy: 0.9172\n",
            "188/188 [==============================] - 5s 25ms/step - loss: 0.9392 - accuracy: 0.8320\n",
            "47/47 [==============================] - 1s 12ms/step - loss: 0.3150 - accuracy: 0.9379\n",
            "188/188 [==============================] - 5s 25ms/step - loss: 0.9915 - accuracy: 0.8003\n",
            "47/47 [==============================] - 1s 12ms/step - loss: 0.3404 - accuracy: 0.9342\n",
            "188/188 [==============================] - 5s 26ms/step - loss: 0.8636 - accuracy: 0.8444\n",
            "47/47 [==============================] - 1s 11ms/step - loss: 0.2930 - accuracy: 0.9416\n",
            "188/188 [==============================] - 5s 25ms/step - loss: 1.0111 - accuracy: 0.7989\n",
            "47/47 [==============================] - 1s 11ms/step - loss: 0.3154 - accuracy: 0.9446\n",
            "188/188 [==============================] - 5s 24ms/step - loss: 2.1662 - accuracy: 0.4119\n",
            "47/47 [==============================] - 1s 11ms/step - loss: 2.0458 - accuracy: 0.7228\n",
            "188/188 [==============================] - 5s 25ms/step - loss: 2.1513 - accuracy: 0.4351\n",
            "47/47 [==============================] - 1s 12ms/step - loss: 2.0272 - accuracy: 0.6396\n",
            "188/188 [==============================] - 5s 25ms/step - loss: 2.1950 - accuracy: 0.4062\n",
            "47/47 [==============================] - 1s 11ms/step - loss: 2.0391 - accuracy: 0.6354\n",
            "188/188 [==============================] - 5s 25ms/step - loss: 2.2304 - accuracy: 0.4163\n",
            "47/47 [==============================] - 1s 11ms/step - loss: 2.0933 - accuracy: 0.6513\n",
            "188/188 [==============================] - 5s 24ms/step - loss: 2.1414 - accuracy: 0.5475\n",
            "47/47 [==============================] - 1s 11ms/step - loss: 2.0169 - accuracy: 0.7663\n",
            "188/188 [==============================] - 5s 25ms/step - loss: 0.9295 - accuracy: 0.8399\n",
            "47/47 [==============================] - 1s 11ms/step - loss: 0.3045 - accuracy: 0.9444\n",
            "188/188 [==============================] - 5s 25ms/step - loss: 1.0642 - accuracy: 0.7648\n",
            "47/47 [==============================] - 1s 11ms/step - loss: 0.3699 - accuracy: 0.9212\n",
            "188/188 [==============================] - 5s 25ms/step - loss: 1.1017 - accuracy: 0.7472\n",
            "47/47 [==============================] - 1s 11ms/step - loss: 0.5095 - accuracy: 0.8891\n",
            "188/188 [==============================] - 5s 25ms/step - loss: 1.0156 - accuracy: 0.8190\n",
            "47/47 [==============================] - 1s 11ms/step - loss: 0.3376 - accuracy: 0.9329\n",
            "188/188 [==============================] - 5s 26ms/step - loss: 0.9354 - accuracy: 0.8197\n",
            "47/47 [==============================] - 1s 11ms/step - loss: 0.2879 - accuracy: 0.9495\n",
            "188/188 [==============================] - 5s 25ms/step - loss: 2.1284 - accuracy: 0.5341\n",
            "47/47 [==============================] - 1s 12ms/step - loss: 2.0153 - accuracy: 0.7254\n",
            "188/188 [==============================] - 5s 25ms/step - loss: 2.1534 - accuracy: 0.5190\n",
            "47/47 [==============================] - 1s 12ms/step - loss: 2.0256 - accuracy: 0.7459\n",
            "188/188 [==============================] - 5s 25ms/step - loss: 2.1473 - accuracy: 0.4490\n",
            "47/47 [==============================] - 1s 11ms/step - loss: 2.0391 - accuracy: 0.6653\n",
            "188/188 [==============================] - 5s 25ms/step - loss: 2.1475 - accuracy: 0.5272\n",
            "47/47 [==============================] - 1s 11ms/step - loss: 2.0355 - accuracy: 0.7670\n",
            "188/188 [==============================] - 5s 25ms/step - loss: 2.1378 - accuracy: 0.4813\n",
            "47/47 [==============================] - 1s 11ms/step - loss: 2.0208 - accuracy: 0.6697\n",
            "938/938 [==============================] - 10s 11ms/step - loss: 0.7552 - accuracy: 0.9267\n"
          ],
          "name": "stdout"
        }
      ]
    },
    {
      "cell_type": "markdown",
      "metadata": {
        "id": "EST6RAWK1dgo",
        "colab_type": "text"
      },
      "source": [
        "### 結果の確認"
      ]
    },
    {
      "cell_type": "code",
      "metadata": {
        "id": "-mYUCqasvWbW",
        "colab_type": "code",
        "colab": {
          "base_uri": "https://localhost:8080/",
          "height": 34
        },
        "outputId": "1086d7df-e7b8-4a61-8782-382a617d6592"
      },
      "source": [
        "print(grid_result.best_params_)"
      ],
      "execution_count": 48,
      "outputs": [
        {
          "output_type": "stream",
          "text": [
            "{'activation': 'relu', 'batch_size': 64, 'nb_epoch': 20, 'optimizer': 'adam'}\n"
          ],
          "name": "stdout"
        }
      ]
    },
    {
      "cell_type": "markdown",
      "metadata": {
        "id": "c8Echwhm5jhc",
        "colab_type": "text"
      },
      "source": [
        "# 求めた最適ハイパーパラメータでモデルを作成"
      ]
    },
    {
      "cell_type": "code",
      "metadata": {
        "id": "KmnY3Sqt6hEY",
        "colab_type": "code",
        "colab": {
          "base_uri": "https://localhost:8080/",
          "height": 697
        },
        "outputId": "1e3a861a-9de3-412b-b9ca-7d0bd7bcf19a"
      },
      "source": [
        "model = build_model(activation='relu', optimizer='adam')\n",
        "\n",
        "history = model.fit(X_train, y_train, epochs=20, batch_size=64)"
      ],
      "execution_count": 51,
      "outputs": [
        {
          "output_type": "stream",
          "text": [
            "Epoch 1/20\n",
            "938/938 [==============================] - 10s 11ms/step - loss: 1.7084 - accuracy: 0.9185\n",
            "Epoch 2/20\n",
            "938/938 [==============================] - 10s 11ms/step - loss: 0.1296 - accuracy: 0.9684\n",
            "Epoch 3/20\n",
            "938/938 [==============================] - 10s 11ms/step - loss: 0.1089 - accuracy: 0.9736\n",
            "Epoch 4/20\n",
            "938/938 [==============================] - 10s 11ms/step - loss: 0.0746 - accuracy: 0.9807\n",
            "Epoch 5/20\n",
            "938/938 [==============================] - 10s 11ms/step - loss: 0.0802 - accuracy: 0.9793\n",
            "Epoch 6/20\n",
            "938/938 [==============================] - 10s 11ms/step - loss: 0.0726 - accuracy: 0.9815\n",
            "Epoch 7/20\n",
            "938/938 [==============================] - 10s 11ms/step - loss: 0.0786 - accuracy: 0.9809\n",
            "Epoch 8/20\n",
            "938/938 [==============================] - 10s 11ms/step - loss: 0.0561 - accuracy: 0.9853\n",
            "Epoch 9/20\n",
            "938/938 [==============================] - 10s 11ms/step - loss: 0.0621 - accuracy: 0.9842\n",
            "Epoch 10/20\n",
            "938/938 [==============================] - 10s 11ms/step - loss: 0.0522 - accuracy: 0.9869\n",
            "Epoch 11/20\n",
            "938/938 [==============================] - 10s 11ms/step - loss: 0.0516 - accuracy: 0.9865\n",
            "Epoch 12/20\n",
            "938/938 [==============================] - 10s 11ms/step - loss: 0.0388 - accuracy: 0.9898\n",
            "Epoch 13/20\n",
            "938/938 [==============================] - 10s 11ms/step - loss: 0.0372 - accuracy: 0.9904\n",
            "Epoch 14/20\n",
            "938/938 [==============================] - 10s 11ms/step - loss: 0.0447 - accuracy: 0.9888\n",
            "Epoch 15/20\n",
            "938/938 [==============================] - 10s 11ms/step - loss: 0.0373 - accuracy: 0.9909\n",
            "Epoch 16/20\n",
            "938/938 [==============================] - 10s 11ms/step - loss: 0.0368 - accuracy: 0.9909\n",
            "Epoch 17/20\n",
            "938/938 [==============================] - 10s 11ms/step - loss: 0.0303 - accuracy: 0.9926\n",
            "Epoch 18/20\n",
            "938/938 [==============================] - 10s 11ms/step - loss: 0.0338 - accuracy: 0.9922\n",
            "Epoch 19/20\n",
            "938/938 [==============================] - 10s 11ms/step - loss: 0.0392 - accuracy: 0.9916\n",
            "Epoch 20/20\n",
            "938/938 [==============================] - 10s 11ms/step - loss: 0.0229 - accuracy: 0.9946\n"
          ],
          "name": "stdout"
        }
      ]
    },
    {
      "cell_type": "code",
      "metadata": {
        "id": "-Ras4-Tl62x3",
        "colab_type": "code",
        "colab": {
          "base_uri": "https://localhost:8080/",
          "height": 51
        },
        "outputId": "c177b53a-d547-4cdd-8690-9a65ba4df63a"
      },
      "source": [
        "model.evaluate(X_test, y_test)"
      ],
      "execution_count": 52,
      "outputs": [
        {
          "output_type": "stream",
          "text": [
            "313/313 [==============================] - 1s 4ms/step - loss: 0.0661 - accuracy: 0.9872\n"
          ],
          "name": "stdout"
        },
        {
          "output_type": "execute_result",
          "data": {
            "text/plain": [
              "[0.06611067801713943, 0.9872000217437744]"
            ]
          },
          "metadata": {
            "tags": []
          },
          "execution_count": 52
        }
      ]
    }
  ]
}